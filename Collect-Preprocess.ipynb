{
 "cells": [
  {
   "cell_type": "markdown",
   "metadata": {},
   "source": [
    "# Data collection and processing"
   ]
  },
  {
   "cell_type": "markdown",
   "metadata": {},
   "source": [
    "## Colllecting data from AEMET"
   ]
  },
  {
   "cell_type": "markdown",
   "metadata": {},
   "source": [
    "### Importo las librerias necesarias para el proyecto"
   ]
  },
  {
   "cell_type": "code",
   "execution_count": 9,
   "metadata": {},
   "outputs": [],
   "source": [
    "from datetime import datetime, timedelta\n",
    "import time\n",
    "import json\n",
    "from collections import namedtuple\n",
    "import pandas as pd\n",
    "import matplotlib.pyplot as plt"
   ]
  },
  {
   "cell_type": "markdown",
   "metadata": {},
   "source": [
    "### Extraigo los datos de 3 años, desde el 01-01-2018 hasta el 31-12-2020 y lo almaceno en un JSON"
   ]
  },
  {
   "cell_type": "markdown",
   "metadata": {},
   "source": [
    "#### Para ello, me registro en la AEMET para obtener un API key y extraigo los datos de la climatologia diaria de estos años de la estacion meteorológica situada en Ciudad Universitaria"
   ]
  },
  {
   "cell_type": "markdown",
   "metadata": {},
   "source": [
    "#### Vamos a usar los siguientes datos proporcionados por la AEMET: Fecha, temperaturaMedia, precipitaciones, temperaturaMinima y temperaturaMaxima"
   ]
  },
  {
   "cell_type": "code",
   "execution_count": 27,
   "metadata": {},
   "outputs": [],
   "source": [
    "ruta_archivo_json = 'datos.json'\n",
    "\n",
    "with open(ruta_archivo_json) as archivo_json:\n",
    "    datos_json = json.load(archivo_json)\n",
    "    \n",
    "df = pd.DataFrame(datos_json)\n",
    "\n",
    "#Quito las columnas que no voy a necesitar\n",
    "df = df.drop(['indicativo','nombre','provincia','altitud','horatmin','horatmax','dir','velmedia','racha','horaracha'],axis=1)"
   ]
  },
  {
   "cell_type": "markdown",
   "metadata": {},
   "source": [
    "#### Debido a que no tengo demasiado conocimiento sobre climatologia, hare como en el tutorial proporcionado y usare informacion de los 3 dias anteriores"
   ]
  },
  {
   "cell_type": "markdown",
   "metadata": {},
   "source": [
    "#### Para cada dia (fila), y cada medida (columna) voy a buscar el valor de esa medida N dias anteriores.\n",
    "\n",
    "#### Es decir, creare una nueva columna para esa medida que represente su valor N dias antes"
   ]
  },
  {
   "cell_type": "code",
   "execution_count": 34,
   "metadata": {},
   "outputs": [],
   "source": [
    "tmp = df.head(10)"
   ]
  },
  {
   "cell_type": "code",
   "execution_count": 37,
   "metadata": {},
   "outputs": [
    {
     "name": "stderr",
     "output_type": "stream",
     "text": [
      "<ipython-input-37-04123b954dba>:18: SettingWithCopyWarning: \n",
      "A value is trying to be set on a copy of a slice from a DataFrame.\n",
      "Try using .loc[row_indexer,col_indexer] = value instead\n",
      "\n",
      "See the caveats in the documentation: https://pandas.pydata.org/pandas-docs/stable/user_guide/indexing.html#returning-a-view-versus-a-copy\n",
      "  tmp[col_name] = nth_prior_measurements\n"
     ]
    },
    {
     "data": {
      "text/html": [
       "<div>\n",
       "<style scoped>\n",
       "    .dataframe tbody tr th:only-of-type {\n",
       "        vertical-align: middle;\n",
       "    }\n",
       "\n",
       "    .dataframe tbody tr th {\n",
       "        vertical-align: top;\n",
       "    }\n",
       "\n",
       "    .dataframe thead th {\n",
       "        text-align: right;\n",
       "    }\n",
       "</style>\n",
       "<table border=\"1\" class=\"dataframe\">\n",
       "  <thead>\n",
       "    <tr style=\"text-align: right;\">\n",
       "      <th></th>\n",
       "      <th>fecha</th>\n",
       "      <th>tmed</th>\n",
       "      <th>prec</th>\n",
       "      <th>tmin</th>\n",
       "      <th>tmax</th>\n",
       "      <th>tmed_1</th>\n",
       "    </tr>\n",
       "  </thead>\n",
       "  <tbody>\n",
       "    <tr>\n",
       "      <th>0</th>\n",
       "      <td>2018-01-01</td>\n",
       "      <td>6,9</td>\n",
       "      <td>0,0</td>\n",
       "      <td>1,7</td>\n",
       "      <td>12,1</td>\n",
       "      <td>None</td>\n",
       "    </tr>\n",
       "    <tr>\n",
       "      <th>1</th>\n",
       "      <td>2018-01-02</td>\n",
       "      <td>10,4</td>\n",
       "      <td>0,0</td>\n",
       "      <td>6,3</td>\n",
       "      <td>14,6</td>\n",
       "      <td>6,9</td>\n",
       "    </tr>\n",
       "    <tr>\n",
       "      <th>2</th>\n",
       "      <td>2018-01-03</td>\n",
       "      <td>11,2</td>\n",
       "      <td>0,0</td>\n",
       "      <td>6,8</td>\n",
       "      <td>15,5</td>\n",
       "      <td>10,4</td>\n",
       "    </tr>\n",
       "    <tr>\n",
       "      <th>3</th>\n",
       "      <td>2018-01-04</td>\n",
       "      <td>11,8</td>\n",
       "      <td>0,0</td>\n",
       "      <td>7,9</td>\n",
       "      <td>15,6</td>\n",
       "      <td>11,2</td>\n",
       "    </tr>\n",
       "    <tr>\n",
       "      <th>4</th>\n",
       "      <td>2018-01-05</td>\n",
       "      <td>7,8</td>\n",
       "      <td>12,9</td>\n",
       "      <td>5,2</td>\n",
       "      <td>10,4</td>\n",
       "      <td>11,8</td>\n",
       "    </tr>\n",
       "    <tr>\n",
       "      <th>5</th>\n",
       "      <td>2018-01-06</td>\n",
       "      <td>3,3</td>\n",
       "      <td>21,6</td>\n",
       "      <td>1,3</td>\n",
       "      <td>5,3</td>\n",
       "      <td>7,8</td>\n",
       "    </tr>\n",
       "    <tr>\n",
       "      <th>6</th>\n",
       "      <td>2018-01-07</td>\n",
       "      <td>1,8</td>\n",
       "      <td>3,5</td>\n",
       "      <td>-0,1</td>\n",
       "      <td>3,8</td>\n",
       "      <td>3,3</td>\n",
       "    </tr>\n",
       "    <tr>\n",
       "      <th>7</th>\n",
       "      <td>2018-01-08</td>\n",
       "      <td>3,9</td>\n",
       "      <td>0,1</td>\n",
       "      <td>-1,0</td>\n",
       "      <td>8,8</td>\n",
       "      <td>1,8</td>\n",
       "    </tr>\n",
       "    <tr>\n",
       "      <th>8</th>\n",
       "      <td>2018-01-09</td>\n",
       "      <td>0,6</td>\n",
       "      <td>2,2</td>\n",
       "      <td>-2,7</td>\n",
       "      <td>4,0</td>\n",
       "      <td>3,9</td>\n",
       "    </tr>\n",
       "    <tr>\n",
       "      <th>9</th>\n",
       "      <td>2018-01-10</td>\n",
       "      <td>3,8</td>\n",
       "      <td>0,4</td>\n",
       "      <td>1,1</td>\n",
       "      <td>6,6</td>\n",
       "      <td>0,6</td>\n",
       "    </tr>\n",
       "  </tbody>\n",
       "</table>\n",
       "</div>"
      ],
      "text/plain": [
       "        fecha  tmed  prec  tmin  tmax tmed_1\n",
       "0  2018-01-01   6,9   0,0   1,7  12,1   None\n",
       "1  2018-01-02  10,4   0,0   6,3  14,6    6,9\n",
       "2  2018-01-03  11,2   0,0   6,8  15,5   10,4\n",
       "3  2018-01-04  11,8   0,0   7,9  15,6   11,2\n",
       "4  2018-01-05   7,8  12,9   5,2  10,4   11,8\n",
       "5  2018-01-06   3,3  21,6   1,3   5,3    7,8\n",
       "6  2018-01-07   1,8   3,5  -0,1   3,8    3,3\n",
       "7  2018-01-08   3,9   0,1  -1,0   8,8    1,8\n",
       "8  2018-01-09   0,6   2,2  -2,7   4,0    3,9\n",
       "9  2018-01-10   3,8   0,4   1,1   6,6    0,6"
      ]
     },
     "execution_count": 37,
     "metadata": {},
     "output_type": "execute_result"
    }
   ],
   "source": [
    "# ALGORITMO PARA 1 DIA ANTES Y SOLO PARA UN PEQUEÑO DATAFRAME DE 10 FILAS\n",
    "# 1 dia antes\n",
    "N = 1\n",
    "\n",
    "# target measurement of mean temperature\n",
    "feature = 'tmed'\n",
    "\n",
    "# total number of rows\n",
    "rows = tmp.shape[0]\n",
    "\n",
    "# a list representing Nth prior measurements of feature\n",
    "# notice that the front of the list needs to be padded with N\n",
    "# None values to maintain the constistent rows length for each N\n",
    "nth_prior_measurements = [None]*N + [tmp[feature][i-N] for i in range(N, rows)]\n",
    "\n",
    "# make a new column name of feature_N and add to DataFrame\n",
    "col_name = \"{}_{}\".format(feature, N)\n",
    "tmp[col_name] = nth_prior_measurements\n",
    "tmp"
   ]
  },
  {
   "cell_type": "markdown",
   "metadata": {},
   "source": [
    "#### Ahora que vemos que funciona, crearemos una funcion que haga lo explicado anteriormente"
   ]
  },
  {
   "cell_type": "code",
   "execution_count": 38,
   "metadata": {},
   "outputs": [],
   "source": [
    "def derive_nth_day_feature(df, feature, N):\n",
    "    rows = df.shape[0]\n",
    "    nth_prior_measurements = [None]*N + [df[feature][i-N] for i in range(N, rows)]\n",
    "    col_name = \"{}_{}\".format(feature, N)\n",
    "    df[col_name] = nth_prior_measurements"
   ]
  },
  {
   "cell_type": "markdown",
   "metadata": {},
   "source": [
    "#### A continuacion, mediante un bucle, aplicaremos toda la funcion al dataframe principal, con estos nuevos datos podremos predecir mucho mejor el clima"
   ]
  },
  {
   "cell_type": "code",
   "execution_count": 44,
   "metadata": {},
   "outputs": [],
   "source": [
    "features = ['tmed', 'prec', 'tmin', 'tmax']\n",
    "for feature in features:\n",
    "    if feature != 'date':\n",
    "        for N in range(1, 4):\n",
    "            derive_nth_day_feature(df, feature, N)"
   ]
  },
  {
   "cell_type": "code",
   "execution_count": null,
   "metadata": {},
   "outputs": [],
   "source": []
  },
  {
   "cell_type": "code",
   "execution_count": null,
   "metadata": {},
   "outputs": [],
   "source": []
  }
 ],
 "metadata": {
  "kernelspec": {
   "display_name": "Python 3",
   "language": "python",
   "name": "python3"
  },
  "language_info": {
   "codemirror_mode": {
    "name": "ipython",
    "version": 3
   },
   "file_extension": ".py",
   "mimetype": "text/x-python",
   "name": "python",
   "nbconvert_exporter": "python",
   "pygments_lexer": "ipython3",
   "version": "3.8.5"
  }
 },
 "nbformat": 4,
 "nbformat_minor": 4
}
