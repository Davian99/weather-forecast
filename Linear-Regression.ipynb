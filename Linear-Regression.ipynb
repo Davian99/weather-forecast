{
 "cells": [
  {
   "cell_type": "markdown",
   "metadata": {},
   "source": [
    "# Linear regression"
   ]
  },
  {
   "cell_type": "markdown",
   "metadata": {},
   "source": [
    "## En esta parte, voy a ir describiendo el proceso y los pasos necesarios para construir un riguroso modelo de Regresion Lineal que nos permita predecir los valores de la futura temperatura media diaria basandonos en el dataSet que ya tenemos preparado\n",
    "## Usare dos de las librerias mas importantes de python para la industria del Machine Learning: Scikit-Learn y StatsModels"
   ]
  },
  {
   "cell_type": "markdown",
   "metadata": {},
   "source": [
    "### Abrimos el dataframe exportado de la primera parte"
   ]
  },
  {
   "cell_type": "code",
   "execution_count": 46,
   "metadata": {},
   "outputs": [],
   "source": [
    "import pickle\n",
    "with open('end-part1_df.pkl', 'rb') as fp:\n",
    "    df = pickle.load(fp)"
   ]
  },
  {
   "cell_type": "markdown",
   "metadata": {},
   "source": [
    "### Utilizaremos un modelo de regresion lineal con el algoritmo de MCO (minimos cuadrados ordinarios)\n",
    "\n",
    "[Informacion sobre que es la regresion lineal](https://es.wikipedia.org/wiki/Regresi%C3%B3n_lineal)\n",
    "\n",
    "[Informacion sobre el método utilizado para encontrar los parámetros poblacionales en un modelo de regresión lineal](https://es.wikipedia.org/wiki/M%C3%ADnimos_cuadrados_ordinarios)\n",
    "\n",
    "QUIZA dar mas explicaciones de la regresion y su algoritmo"
   ]
  },
  {
   "cell_type": "markdown",
   "metadata": {},
   "source": [
    "## Eligiendo las caracteristicas de nuestro modelo"
   ]
  },
  {
   "cell_type": "markdown",
   "metadata": {},
   "source": [
    "#### Un punto clave que se asume cuando se utiliza la tecnica de regresion lineal es que tenemos una relacion lineal entre la variable dependiente y cada una de las variables independientes\n",
    "\n",
    "#### Una forma de comprobar la linealidad entre nuestra variable independiente, que sera la TEMPERATURA MEDIA y las otras variables independientes, consiste en calcula el [coeficiente de correlacion de Pearson](https://es.wikipedia.org/wiki/Coeficiente_de_correlaci%C3%B3n_de_Pearson) \n",
    "\n",
    "#### La siguiente tabla indica como se interpreta el coeficiente:\n",
    "\n"
   ]
  },
  {
   "cell_type": "markdown",
   "metadata": {},
   "source": [
    "| Correlation Value | Interpretation |\n",
    "| -- | -- |\n",
    "| 0.8 - 1.0 | Very Strong |\n",
    "| 0.6 - 0.8| Strong |\n",
    "| 0.4 - 0.6 | Moderate |\n",
    "| 0.2 - 0.4 | Weak |\n",
    "| 0.0 - 0.2 | Very weak |\n",
    "\n"
   ]
  },
  {
   "cell_type": "markdown",
   "metadata": {},
   "source": [
    "#### Para obtener la correlacion de nuestro dataSet, utilizaremos el metodo ` corr()`  de Pandas DataFRame Object. Le pasaremos la columna en la que estamos interesados, que en este caso es 'tmed' y despues ordenamos el resultado desde los menos correlacionados a los mascorrelacionados"
   ]
  },
  {
   "cell_type": "code",
   "execution_count": 47,
   "metadata": {},
   "outputs": [
    {
     "data": {
      "text/html": [
       "<div>\n",
       "<style scoped>\n",
       "    .dataframe tbody tr th:only-of-type {\n",
       "        vertical-align: middle;\n",
       "    }\n",
       "\n",
       "    .dataframe tbody tr th {\n",
       "        vertical-align: top;\n",
       "    }\n",
       "\n",
       "    .dataframe thead th {\n",
       "        text-align: right;\n",
       "    }\n",
       "</style>\n",
       "<table border=\"1\" class=\"dataframe\">\n",
       "  <thead>\n",
       "    <tr style=\"text-align: right;\">\n",
       "      <th></th>\n",
       "      <th>tmed</th>\n",
       "    </tr>\n",
       "  </thead>\n",
       "  <tbody>\n",
       "    <tr>\n",
       "      <th>prec_1</th>\n",
       "      <td>-0.131943</td>\n",
       "    </tr>\n",
       "    <tr>\n",
       "      <th>prec_2</th>\n",
       "      <td>-0.121593</td>\n",
       "    </tr>\n",
       "    <tr>\n",
       "      <th>prec_3</th>\n",
       "      <td>-0.109075</td>\n",
       "    </tr>\n",
       "    <tr>\n",
       "      <th>tmin_3</th>\n",
       "      <td>0.866754</td>\n",
       "    </tr>\n",
       "    <tr>\n",
       "      <th>tmin_2</th>\n",
       "      <td>0.884268</td>\n",
       "    </tr>\n",
       "    <tr>\n",
       "      <th>tmax_3</th>\n",
       "      <td>0.901946</td>\n",
       "    </tr>\n",
       "    <tr>\n",
       "      <th>tmin_1</th>\n",
       "      <td>0.915285</td>\n",
       "    </tr>\n",
       "    <tr>\n",
       "      <th>tmed_3</th>\n",
       "      <td>0.918337</td>\n",
       "    </tr>\n",
       "    <tr>\n",
       "      <th>tmax_2</th>\n",
       "      <td>0.919749</td>\n",
       "    </tr>\n",
       "    <tr>\n",
       "      <th>tmed_2</th>\n",
       "      <td>0.936532</td>\n",
       "    </tr>\n",
       "    <tr>\n",
       "      <th>tmax_1</th>\n",
       "      <td>0.945720</td>\n",
       "    </tr>\n",
       "    <tr>\n",
       "      <th>tmin</th>\n",
       "      <td>0.955244</td>\n",
       "    </tr>\n",
       "    <tr>\n",
       "      <th>tmed_1</th>\n",
       "      <td>0.965653</td>\n",
       "    </tr>\n",
       "    <tr>\n",
       "      <th>tmax</th>\n",
       "      <td>0.973884</td>\n",
       "    </tr>\n",
       "    <tr>\n",
       "      <th>tmed</th>\n",
       "      <td>1.000000</td>\n",
       "    </tr>\n",
       "  </tbody>\n",
       "</table>\n",
       "</div>"
      ],
      "text/plain": [
       "            tmed\n",
       "prec_1 -0.131943\n",
       "prec_2 -0.121593\n",
       "prec_3 -0.109075\n",
       "tmin_3  0.866754\n",
       "tmin_2  0.884268\n",
       "tmax_3  0.901946\n",
       "tmin_1  0.915285\n",
       "tmed_3  0.918337\n",
       "tmax_2  0.919749\n",
       "tmed_2  0.936532\n",
       "tmax_1  0.945720\n",
       "tmin    0.955244\n",
       "tmed_1  0.965653\n",
       "tmax    0.973884\n",
       "tmed    1.000000"
      ]
     },
     "execution_count": 47,
     "metadata": {},
     "output_type": "execute_result"
    }
   ],
   "source": [
    "df.corr()[['tmed']].sort_values('tmed')"
   ]
  },
  {
   "cell_type": "markdown",
   "metadata": {},
   "source": [
    "#### A partir de estos resultados, he decidido eliminar las variables que tengan el coeficiente de correlacion menor que 0.6 y tambien tmed,tmin y tmax. Ya que tienen que ver con el dia que voy a buscar predecir En este caso mantendre tmed, para tener un array cuadrado, pero saldra una linea recta en las graficas de abajo\n",
    "\n",
    "#### Creo el nuevo dataframe:"
   ]
  },
  {
   "cell_type": "code",
   "execution_count": 48,
   "metadata": {},
   "outputs": [],
   "source": [
    "df2 = df.drop(['prec_1', 'prec_2', 'prec_3'], axis=1)\n",
    "predictors = ['tmed_1','tmed_2','tmed_3','tmin_1','tmin_2','tmin_3','tmax_1','tmax_2', 'tmax_3', 'tmed']"
   ]
  },
  {
   "cell_type": "markdown",
   "metadata": {},
   "source": [
    "## Visualizando las relaciones"
   ]
  },
  {
   "cell_type": "markdown",
   "metadata": {},
   "source": [
    "#### Mediante matplotlib voy a dibujar las variables que usare para la prediccion, para comprobar visualmente de que existe una relacion lineal"
   ]
  },
  {
   "cell_type": "code",
   "execution_count": 49,
   "metadata": {},
   "outputs": [],
   "source": [
    "import matplotlib\n",
    "import matplotlib.pyplot as plt\n",
    "import numpy as np"
   ]
  },
  {
   "cell_type": "markdown",
   "metadata": {},
   "source": [
    "#### Voy a colocar la variable dependiente tmed en el eje Y y las otras 11 variables sobre el eje X.\n",
    "\n",
    "#### Además hare una estructura de cuadrados para que se vea mas claramente"
   ]
  },
  {
   "cell_type": "code",
   "execution_count": 50,
   "metadata": {},
   "outputs": [
    {
     "data": {
      "image/png": "[encoded data removed]",
      "text/plain": [
       "<Figure size 1152x1584 with 10 Axes>"
      ]
     },
     "metadata": {
      "needs_background": "light"
     },
     "output_type": "display_data"
    }
   ],
   "source": [
    "%matplotlib inline\n",
    "\n",
    "# manually set the parameters of the figure to and appropriate size\n",
    "plt.rcParams['figure.figsize'] = [16, 22]\n",
    "\n",
    "# call subplots specifying the grid structure we desire and that \n",
    "# the y axes should be shared\n",
    "fig, axes = plt.subplots(nrows=2, ncols=5, sharey=True)\n",
    "\n",
    "# Since it would be nice to loop through the features in to build this plot\n",
    "# let us rearrange our data into a 2D array of 6 rows and 3 columns\n",
    "arr = np.array(predictors).reshape(2, 5)\n",
    "\n",
    "# use enumerate to loop over the arr 2D array of rows and columns\n",
    "# and create scatter plots of each meantempm vs each feature\n",
    "for row, col_arr in enumerate(arr):\n",
    "    for col, feature in enumerate(col_arr):\n",
    "        axes[row, col].scatter(df2[feature], df2['tmed'])\n",
    "        if col == 0:\n",
    "            axes[row, col].set(xlabel=feature, ylabel='tmed')\n",
    "        else:\n",
    "            axes[row, col].set(xlabel=feature)\n",
    "plt.show()"
   ]
  },
  {
   "cell_type": "markdown",
   "metadata": {},
   "source": [
    "#### Observando las graficas, se puede observar como las variables de prediccion muestran una buena relacion lineal con la variable a predercir, tmed\n",
    "\n",
    "#### Ademas se puede observar ....."
   ]
  },
  {
   "cell_type": "code",
   "execution_count": 51,
   "metadata": {},
   "outputs": [],
   "source": [
    "#Quito ya el tmed de predictors\n",
    "predictors = ['tmed_1','tmed_2','tmed_3','tmin_1','tmin_2','tmin_3','tmax_1','tmax_2', 'tmax_3']"
   ]
  },
  {
   "cell_type": "markdown",
   "metadata": {},
   "source": [
    "## Usando regresion gradual para construir un modelo robusto"
   ]
  },
  {
   "cell_type": "markdown",
   "metadata": {},
   "source": [
    "#### Un modelo de regresion lineal robusto debe utilizar test estadisticos para seleccionar los indicadores significativos.\n",
    "\n",
    "#### Para seleccionar las caracteristicas estadisticas, utilizare la libreria de python `statsmodels`.\n",
    "\n",
    "#### Antes de continuar con la practica, voy a hablar un poco de teoria.\n",
    "#### Un punto muy importante a la hora de trabajar con regresion lineal, es la valided y correcion de las hipotesis que se hacen sobre los datos a estudiar. Una forma de comprobar estas hipotesis es evaluando la importancia de cada una de las variables incluidas en la prediccion. TODO: ver si ampliar\n",
    "#### De este modo, seleccionariamos de manera mucho mas minuciosa las variables a incluir y obtendriamos un modelo mas robusto"
   ]
  },
  {
   "cell_type": "markdown",
   "metadata": {},
   "source": [
    "#### Aun asi, en muchos datasets puede haber interacciones  que ocurren entre variables que den lugar a falsas interpretaciones en estos simples test de hipotesis.\n",
    "\n",
    "#### Por ello, para testear si son significativos los efectos de las interacciones de cada una de las variables en un modelo de regresion, se utiliza la [regresion gradual o progresiva](https://en.wikipedia.org/wiki/Stepwise_regression#:~:text=In%20statistics%2C%20stepwise%20regression%20is,based%20on%20some%20prespecified%20criterion.). Esta nos permite ir añadiendo o eliminando variables del modelo e ir validando si hay importancia estadistica de cada una de las variables en el modelo resultante.\n",
    "\n",
    "#### PONER EXPLICACION DE LOS 5 PASOS DE BACKWARD ELIMINATION\n",
    "\n",
    "#### Comienzo ya con la parte practica, para aplicar lo explicado mediante `statsmodels`"
   ]
  },
  {
   "cell_type": "code",
   "execution_count": 52,
   "metadata": {},
   "outputs": [
    {
     "data": {
      "text/html": [
       "<div>\n",
       "<style scoped>\n",
       "    .dataframe tbody tr th:only-of-type {\n",
       "        vertical-align: middle;\n",
       "    }\n",
       "\n",
       "    .dataframe tbody tr th {\n",
       "        vertical-align: top;\n",
       "    }\n",
       "\n",
       "    .dataframe thead th {\n",
       "        text-align: right;\n",
       "    }\n",
       "</style>\n",
       "<table border=\"1\" class=\"dataframe\">\n",
       "  <thead>\n",
       "    <tr style=\"text-align: right;\">\n",
       "      <th></th>\n",
       "      <th>const</th>\n",
       "      <th>tmed_1</th>\n",
       "      <th>tmed_2</th>\n",
       "      <th>tmed_3</th>\n",
       "      <th>tmin_1</th>\n",
       "    </tr>\n",
       "    <tr>\n",
       "      <th>fecha</th>\n",
       "      <th></th>\n",
       "      <th></th>\n",
       "      <th></th>\n",
       "      <th></th>\n",
       "      <th></th>\n",
       "    </tr>\n",
       "  </thead>\n",
       "  <tbody>\n",
       "    <tr>\n",
       "      <th>2018-01-04</th>\n",
       "      <td>1.0</td>\n",
       "      <td>11.2</td>\n",
       "      <td>10.4</td>\n",
       "      <td>6.9</td>\n",
       "      <td>6.8</td>\n",
       "    </tr>\n",
       "    <tr>\n",
       "      <th>2018-01-05</th>\n",
       "      <td>1.0</td>\n",
       "      <td>11.8</td>\n",
       "      <td>11.2</td>\n",
       "      <td>10.4</td>\n",
       "      <td>7.9</td>\n",
       "    </tr>\n",
       "    <tr>\n",
       "      <th>2018-01-06</th>\n",
       "      <td>1.0</td>\n",
       "      <td>7.8</td>\n",
       "      <td>11.8</td>\n",
       "      <td>11.2</td>\n",
       "      <td>5.2</td>\n",
       "    </tr>\n",
       "    <tr>\n",
       "      <th>2018-01-07</th>\n",
       "      <td>1.0</td>\n",
       "      <td>3.3</td>\n",
       "      <td>7.8</td>\n",
       "      <td>11.8</td>\n",
       "      <td>1.3</td>\n",
       "    </tr>\n",
       "    <tr>\n",
       "      <th>2018-01-08</th>\n",
       "      <td>1.0</td>\n",
       "      <td>1.8</td>\n",
       "      <td>3.3</td>\n",
       "      <td>7.8</td>\n",
       "      <td>-0.1</td>\n",
       "    </tr>\n",
       "  </tbody>\n",
       "</table>\n",
       "</div>"
      ],
      "text/plain": [
       "            const  tmed_1  tmed_2  tmed_3  tmin_1\n",
       "fecha                                            \n",
       "2018-01-04    1.0    11.2    10.4     6.9     6.8\n",
       "2018-01-05    1.0    11.8    11.2    10.4     7.9\n",
       "2018-01-06    1.0     7.8    11.8    11.2     5.2\n",
       "2018-01-07    1.0     3.3     7.8    11.8     1.3\n",
       "2018-01-08    1.0     1.8     3.3     7.8    -0.1"
      ]
     },
     "execution_count": 52,
     "metadata": {},
     "output_type": "execute_result"
    }
   ],
   "source": [
    "# Importamos el modulo\n",
    "import statsmodels.api as sm\n",
    "\n",
    "# Separo mis variables de prediccion (X) de mi variable de resultado Y\n",
    "X = df2[predictors]\n",
    "y = df2['tmed']\n",
    "\n",
    "#Añadimos una constante al conjunto de variables de prediccion para representar como de importante es la interseccion\n",
    "# Add a constant to the predictor variable set to represent the Bo intercept\n",
    "X = sm.add_constant(X)\n",
    "X.iloc[:5, :5]"
   ]
  },
  {
   "cell_type": "code",
   "execution_count": 53,
   "metadata": {},
   "outputs": [
    {
     "data": {
      "text/html": [
       "<table class=\"simpletable\">\n",
       "<caption>OLS Regression Results</caption>\n",
       "<tr>\n",
       "  <th>Dep. Variable:</th>          <td>tmed</td>       <th>  R-squared:         </th> <td>   0.935</td>\n",
       "</tr>\n",
       "<tr>\n",
       "  <th>Model:</th>                   <td>OLS</td>       <th>  Adj. R-squared:    </th> <td>   0.935</td>\n",
       "</tr>\n",
       "<tr>\n",
       "  <th>Method:</th>             <td>Least Squares</td>  <th>  F-statistic:       </th> <td>   1449.</td>\n",
       "</tr>\n",
       "<tr>\n",
       "  <th>Date:</th>             <td>Sat, 15 May 2021</td> <th>  Prob (F-statistic):</th>  <td>  0.00</td> \n",
       "</tr>\n",
       "<tr>\n",
       "  <th>Time:</th>                 <td>18:06:42</td>     <th>  Log-Likelihood:    </th> <td> -1911.5</td>\n",
       "</tr>\n",
       "<tr>\n",
       "  <th>No. Observations:</th>      <td>   912</td>      <th>  AIC:               </th> <td>   3843.</td>\n",
       "</tr>\n",
       "<tr>\n",
       "  <th>Df Residuals:</th>          <td>   902</td>      <th>  BIC:               </th> <td>   3891.</td>\n",
       "</tr>\n",
       "<tr>\n",
       "  <th>Df Model:</th>              <td>     9</td>      <th>                     </th>     <td> </td>   \n",
       "</tr>\n",
       "<tr>\n",
       "  <th>Covariance Type:</th>      <td>nonrobust</td>    <th>                     </th>     <td> </td>   \n",
       "</tr>\n",
       "</table>\n",
       "<table class=\"simpletable\">\n",
       "<tr>\n",
       "     <td></td>       <th>coef</th>     <th>std err</th>      <th>t</th>      <th>P>|t|</th>  <th>[0.025</th>    <th>0.975]</th>  \n",
       "</tr>\n",
       "<tr>\n",
       "  <th>const</th>  <td>    0.0528</td> <td>    0.215</td> <td>    0.245</td> <td> 0.806</td> <td>   -0.370</td> <td>    0.475</td>\n",
       "</tr>\n",
       "<tr>\n",
       "  <th>tmed_1</th> <td>   -0.3765</td> <td>    1.884</td> <td>   -0.200</td> <td> 0.842</td> <td>   -4.075</td> <td>    3.322</td>\n",
       "</tr>\n",
       "<tr>\n",
       "  <th>tmed_2</th> <td>   -0.7580</td> <td>    1.881</td> <td>   -0.403</td> <td> 0.687</td> <td>   -4.449</td> <td>    2.933</td>\n",
       "</tr>\n",
       "<tr>\n",
       "  <th>tmed_3</th> <td>   -2.8182</td> <td>    1.875</td> <td>   -1.503</td> <td> 0.133</td> <td>   -6.497</td> <td>    0.861</td>\n",
       "</tr>\n",
       "<tr>\n",
       "  <th>tmin_1</th> <td>    0.5774</td> <td>    0.944</td> <td>    0.611</td> <td> 0.541</td> <td>   -1.276</td> <td>    2.431</td>\n",
       "</tr>\n",
       "<tr>\n",
       "  <th>tmin_2</th> <td>    0.3322</td> <td>    0.942</td> <td>    0.353</td> <td> 0.725</td> <td>   -1.517</td> <td>    2.182</td>\n",
       "</tr>\n",
       "<tr>\n",
       "  <th>tmin_3</th> <td>    1.5115</td> <td>    0.939</td> <td>    1.610</td> <td> 0.108</td> <td>   -0.331</td> <td>    3.354</td>\n",
       "</tr>\n",
       "<tr>\n",
       "  <th>tmax_1</th> <td>    0.6777</td> <td>    0.942</td> <td>    0.719</td> <td> 0.472</td> <td>   -1.171</td> <td>    2.527</td>\n",
       "</tr>\n",
       "<tr>\n",
       "  <th>tmax_2</th> <td>    0.3502</td> <td>    0.941</td> <td>    0.372</td> <td> 0.710</td> <td>   -1.496</td> <td>    2.196</td>\n",
       "</tr>\n",
       "<tr>\n",
       "  <th>tmax_3</th> <td>    1.4675</td> <td>    0.937</td> <td>    1.566</td> <td> 0.118</td> <td>   -0.372</td> <td>    3.307</td>\n",
       "</tr>\n",
       "</table>\n",
       "<table class=\"simpletable\">\n",
       "<tr>\n",
       "  <th>Omnibus:</th>       <td> 1.639</td> <th>  Durbin-Watson:     </th> <td>   2.029</td>\n",
       "</tr>\n",
       "<tr>\n",
       "  <th>Prob(Omnibus):</th> <td> 0.441</td> <th>  Jarque-Bera (JB):  </th> <td>   1.536</td>\n",
       "</tr>\n",
       "<tr>\n",
       "  <th>Skew:</th>          <td>-0.097</td> <th>  Prob(JB):          </th> <td>   0.464</td>\n",
       "</tr>\n",
       "<tr>\n",
       "  <th>Kurtosis:</th>      <td> 3.052</td> <th>  Cond. No.          </th> <td>1.83e+03</td>\n",
       "</tr>\n",
       "</table><br/><br/>Notes:<br/>[1] Standard Errors assume that the covariance matrix of the errors is correctly specified.<br/>[2] The condition number is large, 1.83e+03. This might indicate that there are<br/>strong multicollinearity or other numerical problems."
      ],
      "text/plain": [
       "<class 'statsmodels.iolib.summary.Summary'>\n",
       "\"\"\"\n",
       "                            OLS Regression Results                            \n",
       "==============================================================================\n",
       "Dep. Variable:                   tmed   R-squared:                       0.935\n",
       "Model:                            OLS   Adj. R-squared:                  0.935\n",
       "Method:                 Least Squares   F-statistic:                     1449.\n",
       "Date:                Sat, 15 May 2021   Prob (F-statistic):               0.00\n",
       "Time:                        18:06:42   Log-Likelihood:                -1911.5\n",
       "No. Observations:                 912   AIC:                             3843.\n",
       "Df Residuals:                     902   BIC:                             3891.\n",
       "Df Model:                           9                                         \n",
       "Covariance Type:            nonrobust                                         \n",
       "==============================================================================\n",
       "                 coef    std err          t      P>|t|      [0.025      0.975]\n",
       "------------------------------------------------------------------------------\n",
       "const          0.0528      0.215      0.245      0.806      -0.370       0.475\n",
       "tmed_1        -0.3765      1.884     -0.200      0.842      -4.075       3.322\n",
       "tmed_2        -0.7580      1.881     -0.403      0.687      -4.449       2.933\n",
       "tmed_3        -2.8182      1.875     -1.503      0.133      -6.497       0.861\n",
       "tmin_1         0.5774      0.944      0.611      0.541      -1.276       2.431\n",
       "tmin_2         0.3322      0.942      0.353      0.725      -1.517       2.182\n",
       "tmin_3         1.5115      0.939      1.610      0.108      -0.331       3.354\n",
       "tmax_1         0.6777      0.942      0.719      0.472      -1.171       2.527\n",
       "tmax_2         0.3502      0.941      0.372      0.710      -1.496       2.196\n",
       "tmax_3         1.4675      0.937      1.566      0.118      -0.372       3.307\n",
       "==============================================================================\n",
       "Omnibus:                        1.639   Durbin-Watson:                   2.029\n",
       "Prob(Omnibus):                  0.441   Jarque-Bera (JB):                1.536\n",
       "Skew:                          -0.097   Prob(JB):                        0.464\n",
       "Kurtosis:                       3.052   Cond. No.                     1.83e+03\n",
       "==============================================================================\n",
       "\n",
       "Notes:\n",
       "[1] Standard Errors assume that the covariance matrix of the errors is correctly specified.\n",
       "[2] The condition number is large, 1.83e+03. This might indicate that there are\n",
       "strong multicollinearity or other numerical problems.\n",
       "\"\"\""
      ]
     },
     "execution_count": 53,
     "metadata": {},
     "output_type": "execute_result"
    }
   ],
   "source": [
    "# APLICAMOS LOS PASOS DEL ALGORTIMO\n",
    "# (1) select a significance value\n",
    "alpha = 0.05\n",
    "\n",
    "# (2) Fit the model\n",
    "# OLS --> Ordinary Least Squares\n",
    "model = sm.OLS(y, X).fit()\n",
    "\n",
    "# (3) evaluate the coefficients' p-values\n",
    "model.summary()"
   ]
  },
  {
   "cell_type": "markdown",
   "metadata": {},
   "source": [
    "#### La llamada anterior nos ha dado mucha informacion, pero no nos es necesaria toda.\n",
    "\n",
    "#### Nos interesan 3\n",
    "1. P>|t| --> Es el valor que utilizaremos para evaluar nuestro test de hipotesis. Este valor lo vamos a usar para determinar si eliminar una variable o no enNos mode esta tecnica de eliminacion gradual.\n",
    "2. R-squared --> Es el porcentaje de la variación en la variable de respuesta que es explicado por nuestro modelo.\n",
    "3. Adj. R-squared --> Se utiliza en la regresión múltiple para ver el grado de intensidad o efectividad que tienen las variables independientes en explicar la variable dependiente.\n",
    "\n",
    "#### Esto no significa que el resto de datos sean insignificativos, pero nosotros no los usaremos, si quieres saber mas sobre ellos, puedes consultar el manual de la libreria [statsmodels](https://www.statsmodels.org/stable/api.html)"
   ]
  },
  {
   "cell_type": "code",
   "execution_count": 54,
   "metadata": {},
   "outputs": [
    {
     "data": {
      "text/html": [
       "<table class=\"simpletable\">\n",
       "<caption>OLS Regression Results</caption>\n",
       "<tr>\n",
       "  <th>Dep. Variable:</th>          <td>tmed</td>       <th>  R-squared:         </th> <td>   0.935</td>\n",
       "</tr>\n",
       "<tr>\n",
       "  <th>Model:</th>                   <td>OLS</td>       <th>  Adj. R-squared:    </th> <td>   0.935</td>\n",
       "</tr>\n",
       "<tr>\n",
       "  <th>Method:</th>             <td>Least Squares</td>  <th>  F-statistic:       </th> <td>   1632.</td>\n",
       "</tr>\n",
       "<tr>\n",
       "  <th>Date:</th>             <td>Sat, 15 May 2021</td> <th>  Prob (F-statistic):</th>  <td>  0.00</td> \n",
       "</tr>\n",
       "<tr>\n",
       "  <th>Time:</th>                 <td>18:06:43</td>     <th>  Log-Likelihood:    </th> <td> -1911.5</td>\n",
       "</tr>\n",
       "<tr>\n",
       "  <th>No. Observations:</th>      <td>   912</td>      <th>  AIC:               </th> <td>   3841.</td>\n",
       "</tr>\n",
       "<tr>\n",
       "  <th>Df Residuals:</th>          <td>   903</td>      <th>  BIC:               </th> <td>   3884.</td>\n",
       "</tr>\n",
       "<tr>\n",
       "  <th>Df Model:</th>              <td>     8</td>      <th>                     </th>     <td> </td>   \n",
       "</tr>\n",
       "<tr>\n",
       "  <th>Covariance Type:</th>      <td>nonrobust</td>    <th>                     </th>     <td> </td>   \n",
       "</tr>\n",
       "</table>\n",
       "<table class=\"simpletable\">\n",
       "<tr>\n",
       "     <td></td>       <th>coef</th>     <th>std err</th>      <th>t</th>      <th>P>|t|</th>  <th>[0.025</th>    <th>0.975]</th>  \n",
       "</tr>\n",
       "<tr>\n",
       "  <th>const</th>  <td>    0.0513</td> <td>    0.215</td> <td>    0.238</td> <td> 0.812</td> <td>   -0.371</td> <td>    0.473</td>\n",
       "</tr>\n",
       "<tr>\n",
       "  <th>tmed_2</th> <td>   -0.7585</td> <td>    1.880</td> <td>   -0.404</td> <td> 0.687</td> <td>   -4.447</td> <td>    2.930</td>\n",
       "</tr>\n",
       "<tr>\n",
       "  <th>tmed_3</th> <td>   -2.8137</td> <td>    1.873</td> <td>   -1.502</td> <td> 0.133</td> <td>   -6.490</td> <td>    0.863</td>\n",
       "</tr>\n",
       "<tr>\n",
       "  <th>tmin_1</th> <td>    0.3888</td> <td>    0.029</td> <td>   13.374</td> <td> 0.000</td> <td>    0.332</td> <td>    0.446</td>\n",
       "</tr>\n",
       "<tr>\n",
       "  <th>tmin_2</th> <td>    0.3324</td> <td>    0.942</td> <td>    0.353</td> <td> 0.724</td> <td>   -1.516</td> <td>    2.181</td>\n",
       "</tr>\n",
       "<tr>\n",
       "  <th>tmin_3</th> <td>    1.5094</td> <td>    0.938</td> <td>    1.609</td> <td> 0.108</td> <td>   -0.332</td> <td>    3.351</td>\n",
       "</tr>\n",
       "<tr>\n",
       "  <th>tmax_1</th> <td>    0.4895</td> <td>    0.024</td> <td>   20.199</td> <td> 0.000</td> <td>    0.442</td> <td>    0.537</td>\n",
       "</tr>\n",
       "<tr>\n",
       "  <th>tmax_2</th> <td>    0.3505</td> <td>    0.940</td> <td>    0.373</td> <td> 0.709</td> <td>   -1.494</td> <td>    2.195</td>\n",
       "</tr>\n",
       "<tr>\n",
       "  <th>tmax_3</th> <td>    1.4653</td> <td>    0.937</td> <td>    1.565</td> <td> 0.118</td> <td>   -0.373</td> <td>    3.303</td>\n",
       "</tr>\n",
       "</table>\n",
       "<table class=\"simpletable\">\n",
       "<tr>\n",
       "  <th>Omnibus:</th>       <td> 1.650</td> <th>  Durbin-Watson:     </th> <td>   2.029</td>\n",
       "</tr>\n",
       "<tr>\n",
       "  <th>Prob(Omnibus):</th> <td> 0.438</td> <th>  Jarque-Bera (JB):  </th> <td>   1.546</td>\n",
       "</tr>\n",
       "<tr>\n",
       "  <th>Skew:</th>          <td>-0.097</td> <th>  Prob(JB):          </th> <td>   0.462</td>\n",
       "</tr>\n",
       "<tr>\n",
       "  <th>Kurtosis:</th>      <td> 3.052</td> <th>  Cond. No.          </th> <td>1.73e+03</td>\n",
       "</tr>\n",
       "</table><br/><br/>Notes:<br/>[1] Standard Errors assume that the covariance matrix of the errors is correctly specified.<br/>[2] The condition number is large, 1.73e+03. This might indicate that there are<br/>strong multicollinearity or other numerical problems."
      ],
      "text/plain": [
       "<class 'statsmodels.iolib.summary.Summary'>\n",
       "\"\"\"\n",
       "                            OLS Regression Results                            \n",
       "==============================================================================\n",
       "Dep. Variable:                   tmed   R-squared:                       0.935\n",
       "Model:                            OLS   Adj. R-squared:                  0.935\n",
       "Method:                 Least Squares   F-statistic:                     1632.\n",
       "Date:                Sat, 15 May 2021   Prob (F-statistic):               0.00\n",
       "Time:                        18:06:43   Log-Likelihood:                -1911.5\n",
       "No. Observations:                 912   AIC:                             3841.\n",
       "Df Residuals:                     903   BIC:                             3884.\n",
       "Df Model:                           8                                         \n",
       "Covariance Type:            nonrobust                                         \n",
       "==============================================================================\n",
       "                 coef    std err          t      P>|t|      [0.025      0.975]\n",
       "------------------------------------------------------------------------------\n",
       "const          0.0513      0.215      0.238      0.812      -0.371       0.473\n",
       "tmed_2        -0.7585      1.880     -0.404      0.687      -4.447       2.930\n",
       "tmed_3        -2.8137      1.873     -1.502      0.133      -6.490       0.863\n",
       "tmin_1         0.3888      0.029     13.374      0.000       0.332       0.446\n",
       "tmin_2         0.3324      0.942      0.353      0.724      -1.516       2.181\n",
       "tmin_3         1.5094      0.938      1.609      0.108      -0.332       3.351\n",
       "tmax_1         0.4895      0.024     20.199      0.000       0.442       0.537\n",
       "tmax_2         0.3505      0.940      0.373      0.709      -1.494       2.195\n",
       "tmax_3         1.4653      0.937      1.565      0.118      -0.373       3.303\n",
       "==============================================================================\n",
       "Omnibus:                        1.650   Durbin-Watson:                   2.029\n",
       "Prob(Omnibus):                  0.438   Jarque-Bera (JB):                1.546\n",
       "Skew:                          -0.097   Prob(JB):                        0.462\n",
       "Kurtosis:                       3.052   Cond. No.                     1.73e+03\n",
       "==============================================================================\n",
       "\n",
       "Notes:\n",
       "[1] Standard Errors assume that the covariance matrix of the errors is correctly specified.\n",
       "[2] The condition number is large, 1.73e+03. This might indicate that there are\n",
       "strong multicollinearity or other numerical problems.\n",
       "\"\"\""
      ]
     },
     "execution_count": 54,
     "metadata": {},
     "output_type": "execute_result"
    }
   ],
   "source": [
    "# (3) cont. - Identificamos la variable de prediccion con el mayor valor en p y comprobamos si es mayor que nuestro alpha seleccionado\n",
    "#             fijandonos en la tabla, se ve claramente que tmed_1 tiene el maximo valor en p y\n",
    "#             ademas en mayor que nuestro alpha de 0.05\n",
    "\n",
    "# (4) - Usamos la funcion drop de pandas para eliminar esta columna de X\n",
    "\n",
    "X = X.drop('tmed_1', axis=1)\n",
    "\n",
    "# (5) Fit the model \n",
    "model = sm.OLS(y, X).fit()\n",
    "\n",
    "model.summary()"
   ]
  },
  {
   "cell_type": "markdown",
   "metadata": {},
   "source": [
    "#### Volvemos al paso 3 del algortimo \n",
    "\n",
    "#### Como el maximo valor de p sigue siendo mayor que nuestro aplha (0.05), seguimos con el algoritmo"
   ]
  },
  {
   "cell_type": "code",
   "execution_count": 55,
   "metadata": {},
   "outputs": [
    {
     "data": {
      "text/html": [
       "<table class=\"simpletable\">\n",
       "<caption>OLS Regression Results</caption>\n",
       "<tr>\n",
       "  <th>Dep. Variable:</th>          <td>tmed</td>       <th>  R-squared:         </th> <td>   0.935</td>\n",
       "</tr>\n",
       "<tr>\n",
       "  <th>Model:</th>                   <td>OLS</td>       <th>  Adj. R-squared:    </th> <td>   0.935</td>\n",
       "</tr>\n",
       "<tr>\n",
       "  <th>Method:</th>             <td>Least Squares</td>  <th>  F-statistic:       </th> <td>   1866.</td>\n",
       "</tr>\n",
       "<tr>\n",
       "  <th>Date:</th>             <td>Sat, 15 May 2021</td> <th>  Prob (F-statistic):</th>  <td>  0.00</td> \n",
       "</tr>\n",
       "<tr>\n",
       "  <th>Time:</th>                 <td>18:06:44</td>     <th>  Log-Likelihood:    </th> <td> -1911.6</td>\n",
       "</tr>\n",
       "<tr>\n",
       "  <th>No. Observations:</th>      <td>   912</td>      <th>  AIC:               </th> <td>   3839.</td>\n",
       "</tr>\n",
       "<tr>\n",
       "  <th>Df Residuals:</th>          <td>   904</td>      <th>  BIC:               </th> <td>   3878.</td>\n",
       "</tr>\n",
       "<tr>\n",
       "  <th>Df Model:</th>              <td>     7</td>      <th>                     </th>     <td> </td>   \n",
       "</tr>\n",
       "<tr>\n",
       "  <th>Covariance Type:</th>      <td>nonrobust</td>    <th>                     </th>     <td> </td>   \n",
       "</tr>\n",
       "</table>\n",
       "<table class=\"simpletable\">\n",
       "<tr>\n",
       "     <td></td>       <th>coef</th>     <th>std err</th>      <th>t</th>      <th>P>|t|</th>  <th>[0.025</th>    <th>0.975]</th>  \n",
       "</tr>\n",
       "<tr>\n",
       "  <th>const</th>  <td>    0.0476</td> <td>    0.215</td> <td>    0.222</td> <td> 0.825</td> <td>   -0.374</td> <td>    0.469</td>\n",
       "</tr>\n",
       "<tr>\n",
       "  <th>tmed_2</th> <td>   -0.0956</td> <td>    0.070</td> <td>   -1.375</td> <td> 0.169</td> <td>   -0.232</td> <td>    0.041</td>\n",
       "</tr>\n",
       "<tr>\n",
       "  <th>tmed_3</th> <td>   -2.8133</td> <td>    1.872</td> <td>   -1.502</td> <td> 0.133</td> <td>   -6.488</td> <td>    0.862</td>\n",
       "</tr>\n",
       "<tr>\n",
       "  <th>tmin_1</th> <td>    0.3891</td> <td>    0.029</td> <td>   13.393</td> <td> 0.000</td> <td>    0.332</td> <td>    0.446</td>\n",
       "</tr>\n",
       "<tr>\n",
       "  <th>tmin_3</th> <td>    1.5096</td> <td>    0.938</td> <td>    1.610</td> <td> 0.108</td> <td>   -0.331</td> <td>    3.350</td>\n",
       "</tr>\n",
       "<tr>\n",
       "  <th>tmax_1</th> <td>    0.4896</td> <td>    0.024</td> <td>   20.213</td> <td> 0.000</td> <td>    0.442</td> <td>    0.537</td>\n",
       "</tr>\n",
       "<tr>\n",
       "  <th>tmax_2</th> <td>    0.0192</td> <td>    0.048</td> <td>    0.401</td> <td> 0.689</td> <td>   -0.075</td> <td>    0.113</td>\n",
       "</tr>\n",
       "<tr>\n",
       "  <th>tmax_3</th> <td>    1.4652</td> <td>    0.936</td> <td>    1.565</td> <td> 0.118</td> <td>   -0.372</td> <td>    3.302</td>\n",
       "</tr>\n",
       "</table>\n",
       "<table class=\"simpletable\">\n",
       "<tr>\n",
       "  <th>Omnibus:</th>       <td> 1.653</td> <th>  Durbin-Watson:     </th> <td>   2.030</td>\n",
       "</tr>\n",
       "<tr>\n",
       "  <th>Prob(Omnibus):</th> <td> 0.438</td> <th>  Jarque-Bera (JB):  </th> <td>   1.551</td>\n",
       "</tr>\n",
       "<tr>\n",
       "  <th>Skew:</th>          <td>-0.098</td> <th>  Prob(JB):          </th> <td>   0.460</td>\n",
       "</tr>\n",
       "<tr>\n",
       "  <th>Kurtosis:</th>      <td> 3.050</td> <th>  Cond. No.          </th> <td>1.68e+03</td>\n",
       "</tr>\n",
       "</table><br/><br/>Notes:<br/>[1] Standard Errors assume that the covariance matrix of the errors is correctly specified.<br/>[2] The condition number is large, 1.68e+03. This might indicate that there are<br/>strong multicollinearity or other numerical problems."
      ],
      "text/plain": [
       "<class 'statsmodels.iolib.summary.Summary'>\n",
       "\"\"\"\n",
       "                            OLS Regression Results                            \n",
       "==============================================================================\n",
       "Dep. Variable:                   tmed   R-squared:                       0.935\n",
       "Model:                            OLS   Adj. R-squared:                  0.935\n",
       "Method:                 Least Squares   F-statistic:                     1866.\n",
       "Date:                Sat, 15 May 2021   Prob (F-statistic):               0.00\n",
       "Time:                        18:06:44   Log-Likelihood:                -1911.6\n",
       "No. Observations:                 912   AIC:                             3839.\n",
       "Df Residuals:                     904   BIC:                             3878.\n",
       "Df Model:                           7                                         \n",
       "Covariance Type:            nonrobust                                         \n",
       "==============================================================================\n",
       "                 coef    std err          t      P>|t|      [0.025      0.975]\n",
       "------------------------------------------------------------------------------\n",
       "const          0.0476      0.215      0.222      0.825      -0.374       0.469\n",
       "tmed_2        -0.0956      0.070     -1.375      0.169      -0.232       0.041\n",
       "tmed_3        -2.8133      1.872     -1.502      0.133      -6.488       0.862\n",
       "tmin_1         0.3891      0.029     13.393      0.000       0.332       0.446\n",
       "tmin_3         1.5096      0.938      1.610      0.108      -0.331       3.350\n",
       "tmax_1         0.4896      0.024     20.213      0.000       0.442       0.537\n",
       "tmax_2         0.0192      0.048      0.401      0.689      -0.075       0.113\n",
       "tmax_3         1.4652      0.936      1.565      0.118      -0.372       3.302\n",
       "==============================================================================\n",
       "Omnibus:                        1.653   Durbin-Watson:                   2.030\n",
       "Prob(Omnibus):                  0.438   Jarque-Bera (JB):                1.551\n",
       "Skew:                          -0.098   Prob(JB):                        0.460\n",
       "Kurtosis:                       3.050   Cond. No.                     1.68e+03\n",
       "==============================================================================\n",
       "\n",
       "Notes:\n",
       "[1] Standard Errors assume that the covariance matrix of the errors is correctly specified.\n",
       "[2] The condition number is large, 1.68e+03. This might indicate that there are\n",
       "strong multicollinearity or other numerical problems.\n",
       "\"\"\""
      ]
     },
     "execution_count": 55,
     "metadata": {},
     "output_type": "execute_result"
    }
   ],
   "source": [
    "# (3) cont. - Identificamos la variable de prediccion con el mayor valor en p y comprobamos si es mayor que nuestro alpha seleccionado\n",
    "#             fijandonos en la tabla, se ve claramente que tmin_2 tiene el maximo valor en p y\n",
    "#             ademas en mayor que nuestro alpha de 0.05\n",
    "\n",
    "# (4) - Usamos la funcion drop de pandas para eliminar esta columna de X\n",
    "\n",
    "X = X.drop('tmin_2', axis=1)\n",
    "\n",
    "# (5) Fit the model \n",
    "model = sm.OLS(y, X).fit()\n",
    "\n",
    "model.summary()"
   ]
  },
  {
   "cell_type": "markdown",
   "metadata": {},
   "source": [
    "#### Volvemos al paso 3 del algortimo \n",
    "\n",
    "#### Como el maximo valor de p sigue siendo mayor que nuestro aplha (0.05), seguimos con el algoritmo"
   ]
  },
  {
   "cell_type": "code",
   "execution_count": 56,
   "metadata": {},
   "outputs": [
    {
     "data": {
      "text/html": [
       "<table class=\"simpletable\">\n",
       "<caption>OLS Regression Results</caption>\n",
       "<tr>\n",
       "  <th>Dep. Variable:</th>          <td>tmed</td>       <th>  R-squared:         </th> <td>   0.935</td>\n",
       "</tr>\n",
       "<tr>\n",
       "  <th>Model:</th>                   <td>OLS</td>       <th>  Adj. R-squared:    </th> <td>   0.935</td>\n",
       "</tr>\n",
       "<tr>\n",
       "  <th>Method:</th>             <td>Least Squares</td>  <th>  F-statistic:       </th> <td>   2174.</td>\n",
       "</tr>\n",
       "<tr>\n",
       "  <th>Date:</th>             <td>Sat, 15 May 2021</td> <th>  Prob (F-statistic):</th>  <td>  0.00</td> \n",
       "</tr>\n",
       "<tr>\n",
       "  <th>Time:</th>                 <td>18:06:44</td>     <th>  Log-Likelihood:    </th> <td> -1912.7</td>\n",
       "</tr>\n",
       "<tr>\n",
       "  <th>No. Observations:</th>      <td>   912</td>      <th>  AIC:               </th> <td>   3839.</td>\n",
       "</tr>\n",
       "<tr>\n",
       "  <th>Df Residuals:</th>          <td>   905</td>      <th>  BIC:               </th> <td>   3873.</td>\n",
       "</tr>\n",
       "<tr>\n",
       "  <th>Df Model:</th>              <td>     6</td>      <th>                     </th>     <td> </td>   \n",
       "</tr>\n",
       "<tr>\n",
       "  <th>Covariance Type:</th>      <td>nonrobust</td>    <th>                     </th>     <td> </td>   \n",
       "</tr>\n",
       "</table>\n",
       "<table class=\"simpletable\">\n",
       "<tr>\n",
       "     <td></td>       <th>coef</th>     <th>std err</th>      <th>t</th>      <th>P>|t|</th>  <th>[0.025</th>    <th>0.975]</th>  \n",
       "</tr>\n",
       "<tr>\n",
       "  <th>const</th>  <td>    0.0338</td> <td>    0.215</td> <td>    0.157</td> <td> 0.875</td> <td>   -0.387</td> <td>    0.455</td>\n",
       "</tr>\n",
       "<tr>\n",
       "  <th>tmed_2</th> <td>   -0.0954</td> <td>    0.070</td> <td>   -1.372</td> <td> 0.171</td> <td>   -0.232</td> <td>    0.041</td>\n",
       "</tr>\n",
       "<tr>\n",
       "  <th>tmin_1</th> <td>    0.3891</td> <td>    0.029</td> <td>   13.384</td> <td> 0.000</td> <td>    0.332</td> <td>    0.446</td>\n",
       "</tr>\n",
       "<tr>\n",
       "  <th>tmin_3</th> <td>    0.1012</td> <td>    0.028</td> <td>    3.616</td> <td> 0.000</td> <td>    0.046</td> <td>    0.156</td>\n",
       "</tr>\n",
       "<tr>\n",
       "  <th>tmax_1</th> <td>    0.4903</td> <td>    0.024</td> <td>   20.229</td> <td> 0.000</td> <td>    0.443</td> <td>    0.538</td>\n",
       "</tr>\n",
       "<tr>\n",
       "  <th>tmax_2</th> <td>    0.0191</td> <td>    0.048</td> <td>    0.400</td> <td> 0.690</td> <td>   -0.075</td> <td>    0.113</td>\n",
       "</tr>\n",
       "<tr>\n",
       "  <th>tmax_3</th> <td>    0.0593</td> <td>    0.025</td> <td>    2.356</td> <td> 0.019</td> <td>    0.010</td> <td>    0.109</td>\n",
       "</tr>\n",
       "</table>\n",
       "<table class=\"simpletable\">\n",
       "<tr>\n",
       "  <th>Omnibus:</th>       <td> 1.793</td> <th>  Durbin-Watson:     </th> <td>   2.026</td>\n",
       "</tr>\n",
       "<tr>\n",
       "  <th>Prob(Omnibus):</th> <td> 0.408</td> <th>  Jarque-Bera (JB):  </th> <td>   1.670</td>\n",
       "</tr>\n",
       "<tr>\n",
       "  <th>Skew:</th>          <td>-0.099</td> <th>  Prob(JB):          </th> <td>   0.434</td>\n",
       "</tr>\n",
       "<tr>\n",
       "  <th>Kurtosis:</th>      <td> 3.070</td> <th>  Cond. No.          </th> <td>    148.</td>\n",
       "</tr>\n",
       "</table><br/><br/>Notes:<br/>[1] Standard Errors assume that the covariance matrix of the errors is correctly specified."
      ],
      "text/plain": [
       "<class 'statsmodels.iolib.summary.Summary'>\n",
       "\"\"\"\n",
       "                            OLS Regression Results                            \n",
       "==============================================================================\n",
       "Dep. Variable:                   tmed   R-squared:                       0.935\n",
       "Model:                            OLS   Adj. R-squared:                  0.935\n",
       "Method:                 Least Squares   F-statistic:                     2174.\n",
       "Date:                Sat, 15 May 2021   Prob (F-statistic):               0.00\n",
       "Time:                        18:06:44   Log-Likelihood:                -1912.7\n",
       "No. Observations:                 912   AIC:                             3839.\n",
       "Df Residuals:                     905   BIC:                             3873.\n",
       "Df Model:                           6                                         \n",
       "Covariance Type:            nonrobust                                         \n",
       "==============================================================================\n",
       "                 coef    std err          t      P>|t|      [0.025      0.975]\n",
       "------------------------------------------------------------------------------\n",
       "const          0.0338      0.215      0.157      0.875      -0.387       0.455\n",
       "tmed_2        -0.0954      0.070     -1.372      0.171      -0.232       0.041\n",
       "tmin_1         0.3891      0.029     13.384      0.000       0.332       0.446\n",
       "tmin_3         0.1012      0.028      3.616      0.000       0.046       0.156\n",
       "tmax_1         0.4903      0.024     20.229      0.000       0.443       0.538\n",
       "tmax_2         0.0191      0.048      0.400      0.690      -0.075       0.113\n",
       "tmax_3         0.0593      0.025      2.356      0.019       0.010       0.109\n",
       "==============================================================================\n",
       "Omnibus:                        1.793   Durbin-Watson:                   2.026\n",
       "Prob(Omnibus):                  0.408   Jarque-Bera (JB):                1.670\n",
       "Skew:                          -0.099   Prob(JB):                        0.434\n",
       "Kurtosis:                       3.070   Cond. No.                         148.\n",
       "==============================================================================\n",
       "\n",
       "Notes:\n",
       "[1] Standard Errors assume that the covariance matrix of the errors is correctly specified.\n",
       "\"\"\""
      ]
     },
     "execution_count": 56,
     "metadata": {},
     "output_type": "execute_result"
    }
   ],
   "source": [
    "# (3) cont. - Identificamos la variable de prediccion con el mayor valor en p y comprobamos si es mayor que nuestro alpha seleccionado\n",
    "#             fijandonos en la tabla, se ve claramente que tmed_3 tiene el maximo valor en p y\n",
    "#             ademas en mayor que nuestro alpha de 0.05\n",
    "\n",
    "# (4) - Usamos la funcion drop de pandas para eliminar esta columna de X\n",
    "\n",
    "X = X.drop('tmed_3', axis=1)\n",
    "\n",
    "# (5) Fit the model \n",
    "model = sm.OLS(y, X).fit()\n",
    "\n",
    "model.summary()"
   ]
  },
  {
   "cell_type": "markdown",
   "metadata": {},
   "source": [
    "### Ahora que ya hemos realizado todos los pasos para obtener las variables de prediccion que son significativas, podemos utilizar la biblioteca [Scikit-Learn](https://scikit-learn.org/stable/) para crear un modelo de prediccion y testear su habilidad para predecir la temperatura media."
   ]
  },
  {
   "cell_type": "markdown",
   "metadata": {},
   "source": [
    "#### Comenzamos usando usando SciKit-learn para dividir nuestro dataset en varios para irlos testeando y entrenando. Nos valdremos de la funcion `train_test_split()` del modulo `sklearn.model_selection`\n",
    "\n",
    "#### Separaremos los dataset en 80% entrenamiento y 20% test. Y asignaremos un `random_state` de 12. Este random_state es muy util para la reproducibilidad de los resultados.\n",
    "\n",
    "Random state: Controls the shuffling applied to the data before applying the split. Pass an int for reproducible output across multiple function calls."
   ]
  },
  {
   "cell_type": "code",
   "execution_count": 57,
   "metadata": {},
   "outputs": [],
   "source": [
    "from sklearn.model_selection import train_test_split"
   ]
  },
  {
   "cell_type": "code",
   "execution_count": 58,
   "metadata": {},
   "outputs": [],
   "source": [
    "# first remove the const column because unlike statsmodels, SciKit-Learn will add that in for us\n",
    "X = X.drop('const', axis=1)\n",
    "\n",
    "X_train, X_test, y_train, y_test = train_test_split(X, y, test_size=0.2, random_state=12)\n"
   ]
  },
  {
   "cell_type": "markdown",
   "metadata": {},
   "source": [
    "#### El siguiente paso es construir un modelo de regresion usando el dataset de entrenamiento.\n",
    "\n",
    "#### Para ello importaremos y usaremos la clase `LinearRegression` desde el modulo `sklearn.linear_model`"
   ]
  },
  {
   "cell_type": "code",
   "execution_count": 59,
   "metadata": {},
   "outputs": [],
   "source": [
    "from sklearn.linear_model import LinearRegression"
   ]
  },
  {
   "cell_type": "code",
   "execution_count": 60,
   "metadata": {},
   "outputs": [
    {
     "name": "stdout",
     "output_type": "stream",
     "text": [
      "<class 'numpy.ndarray'>\n",
      "The Explained Variance: 0.93\n",
      "The Mean Absolute Error: 1.61 degrees celsius\n",
      "The Median Absolute Error: 1.38 degrees celsius\n"
     ]
    }
   ],
   "source": [
    "# instantiate the regressor class\n",
    "regressor = LinearRegression()\n",
    "\n",
    "# fit the build the model by fitting the regressor to the training data\n",
    "regressor.fit(X_train, y_train)\n",
    "\n",
    "# make a prediction set using the test set\n",
    "prediction = regressor.predict(X_test)\n",
    "\n",
    "print( type(prediction))\n",
    "# Evaluate the prediction accuracy of the model\n",
    "from sklearn.metrics import mean_absolute_error, median_absolute_error\n",
    "print(\"The Explained Variance: %.2f\" % regressor.score(X_test, y_test))\n",
    "print(\"The Mean Absolute Error: %.2f degrees celsius\" % mean_absolute_error(y_test, prediction))\n",
    "print(\"The Median Absolute Error: %.2f degrees celsius\" % median_absolute_error(y_test, prediction))"
   ]
  },
  {
   "cell_type": "markdown",
   "metadata": {},
   "source": [
    "#### To gain an interpretative understanding of the models validity I used the regressor model's `score()` function to determine that the model is able to explain about 90% of the variance observed in the outcome variable, mean temperature. Additionally, I used the `mean_absolute_error()` and `median_absolute_error()` of the sklearn.metrics module to determine that on average the predicted value is about 3 degrees Celsius off and half of the time it is off by about 2 degrees Celsius."
   ]
  },
  {
   "cell_type": "code",
   "execution_count": 44,
   "metadata": {},
   "outputs": [],
   "source": [
    "df2.to_csv (r'end-part2.csv', header=True)"
   ]
  },
  {
   "cell_type": "code",
   "execution_count": 65,
   "metadata": {},
   "outputs": [],
   "source": [
    "import pickle\n",
    "with open('end-part2_df.pkl', 'wb') as fp:\n",
    "    pickle.dump(df2, fp)"
   ]
  },
  {
   "cell_type": "code",
   "execution_count": 64,
   "metadata": {},
   "outputs": [],
   "source": [
    "#import pickle\n",
    "#with open('end-part2_df.pkl', 'wb') as fp:\n",
    "#    pickle.dump(X, fp)"
   ]
  },
  {
   "cell_type": "code",
   "execution_count": null,
   "metadata": {},
   "outputs": [],
   "source": []
  }
 ],
 "metadata": {
  "kernelspec": {
   "display_name": "Python 3",
   "language": "python",
   "name": "python3"
  },
  "language_info": {
   "codemirror_mode": {
    "name": "ipython",
    "version": 3
   },
   "file_extension": ".py",
   "mimetype": "text/x-python",
   "name": "python",
   "nbconvert_exporter": "python",
   "pygments_lexer": "ipython3",
   "version": "3.8.5"
  }
 },
 "nbformat": 4,
 "nbformat_minor": 4
}
