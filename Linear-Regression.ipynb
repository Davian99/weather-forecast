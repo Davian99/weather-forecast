{
 "cells": [
  {
   "cell_type": "markdown",
   "metadata": {},
   "source": [
    "# Linear regression"
   ]
  },
  {
   "cell_type": "markdown",
   "metadata": {},
   "source": [
    "## En esta parte, voy a ir describiendo el proceso y los pasos necesarios para construir un riguroso modelo de Regresion Lineal que nos permita predecir los valores de la futura temperatura media diaria basandonos en el dataSet que ya tenemos preparado\n",
    "## Usare dos de las librerias mas importantes de python para la industria del Machine Learning: Scikit-Learn y StatsModels "
   ]
  },
  {
   "cell_type": "markdown",
   "metadata": {},
   "source": [
    "### Abrimos el datafram exportado de la primera parte"
   ]
  },
  {
   "cell_type": "code",
   "execution_count": 1,
   "metadata": {},
   "outputs": [],
   "source": [
    "import pickle\n",
    "with open('end-part1_df.pkl', 'rb') as fp:\n",
    "    df = pickle.load(fp)"
   ]
  },
  {
   "cell_type": "markdown",
   "metadata": {},
   "source": [
    "### Utilizaremos un modelo de regresion lineal con el algoritmo de MCO (minimos cuadrados ordinarios)\n",
    "\n",
    "[Informacion sobre que es la regresion lineal](https://es.wikipedia.org/wiki/Regresi%C3%B3n_lineal)\n",
    "\n",
    "[Informacion sobre el método utilizado para encontrar los parámetros poblacionales en un modelo de regresión lineal](https://es.wikipedia.org/wiki/M%C3%ADnimos_cuadrados_ordinarios)\n",
    "\n",
    "QUIZA dar mas explicaciones"
   ]
  },
  {
   "cell_type": "code",
   "execution_count": null,
   "metadata": {},
   "outputs": [],
   "source": []
  }
 ],
 "metadata": {
  "kernelspec": {
   "display_name": "Python 3",
   "language": "python",
   "name": "python3"
  },
  "language_info": {
   "codemirror_mode": {
    "name": "ipython",
    "version": 3
   },
   "file_extension": ".py",
   "mimetype": "text/x-python",
   "name": "python",
   "nbconvert_exporter": "python",
   "pygments_lexer": "ipython3",
   "version": "3.8.5"
  }
 },
 "nbformat": 4,
 "nbformat_minor": 4
}
