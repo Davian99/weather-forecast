{
 "cells": [
  {
   "cell_type": "markdown",
   "metadata": {},
   "source": [
    "In the third article of the series, Using Machine Learning to Predict the Weather: Part 3, I describe how the processes and steps required to build a Neural Network using Google's TensorFlow to predict future mean daily temperatures. Using this method I can then compare the results to the Linear Regression model."
   ]
  },
  {
   "cell_type": "markdown",
   "metadata": {},
   "source": [
    "Topics I will be covering in this article include:\n",
    "\n",
    "- Understanding Artificial Neural Networks Theory\n",
    "- TensorFlow's High Level Estimator API\n",
    "- Building a DNNRegressor to Predict the Weather"
   ]
  },
  {
   "cell_type": "markdown",
   "metadata": {},
   "source": [
    "## Understanding Artificial Neural Networks Theory"
   ]
  },
  {
   "cell_type": "markdown",
   "metadata": {},
   "source": [
    "#### En el notebook anterior he utilizado la tecnica de regresion lineal, la cual es muy util, pero rpesenta el problema de que se supone que hay una relacion lineal entre las variables a estudiar.\n",
    "\n",
    "#### En este caso voy a utilizar redes neuronales, que se comportan bastante bien tanto cuando hay relaciones lineales como cuando no.\n",
    "\n",
    "#### Se trata de un aprendizaje supervisado, ya el modelo se va a entrenar con informacion que ya se sabe su salida.\n",
    "\n",
    "TODO --> poner mas informacion sobre como funciona una red neuronal"
   ]
  },
  {
   "cell_type": "markdown",
   "metadata": {},
   "source": [
    "## TensorFlow's High Level Estimator API"
   ]
  },
  {
   "cell_type": "markdown",
   "metadata": {},
   "source": [
    "#### TODO : explicar que es TensorFlow y como nos facilita la vida\n",
    "\n",
    "#### En este notebook. voy a describir como usar uno de los estimadores mas potentes de redes neuronales, el `DNNRegressor`"
   ]
  },
  {
   "cell_type": "markdown",
   "metadata": {},
   "source": [
    "## Construyendo un DNNRegressor para predecir el clima"
   ]
  },
  {
   "cell_type": "code",
   "execution_count": 1,
   "metadata": {},
   "outputs": [],
   "source": [
    "import pandas as pd\n",
    "import numpy as np\n",
    "import tensorflow as tf\n",
    "from sklearn.metrics import explained_variance_score, \\\n",
    "    mean_absolute_error, \\\n",
    "    median_absolute_error\n",
    "from sklearn.model_selection import train_test_split"
   ]
  },
  {
   "cell_type": "markdown",
   "metadata": {},
   "source": [
    "#### ABRIMOS EL DF exportado de la segunda parte"
   ]
  },
  {
   "cell_type": "code",
   "execution_count": 2,
   "metadata": {},
   "outputs": [],
   "source": [
    "import pickle\n",
    "with open('end-part2_df.pkl', 'rb') as fp:\n",
    "    df = pickle.load(fp)"
   ]
  },
  {
   "cell_type": "code",
   "execution_count": 6,
   "metadata": {},
   "outputs": [
    {
     "data": {
      "text/html": [
       "<div>\n",
       "<style scoped>\n",
       "    .dataframe tbody tr th:only-of-type {\n",
       "        vertical-align: middle;\n",
       "    }\n",
       "\n",
       "    .dataframe tbody tr th {\n",
       "        vertical-align: top;\n",
       "    }\n",
       "\n",
       "    .dataframe thead th {\n",
       "        text-align: right;\n",
       "    }\n",
       "</style>\n",
       "<table border=\"1\" class=\"dataframe\">\n",
       "  <thead>\n",
       "    <tr style=\"text-align: right;\">\n",
       "      <th></th>\n",
       "      <th>count</th>\n",
       "      <th>mean</th>\n",
       "      <th>std</th>\n",
       "      <th>min</th>\n",
       "      <th>25%</th>\n",
       "      <th>50%</th>\n",
       "      <th>75%</th>\n",
       "      <th>max</th>\n",
       "    </tr>\n",
       "  </thead>\n",
       "  <tbody>\n",
       "    <tr>\n",
       "      <th>tmed</th>\n",
       "      <td>912.0</td>\n",
       "      <td>14.646162</td>\n",
       "      <td>7.740936</td>\n",
       "      <td>0.5</td>\n",
       "      <td>8.375</td>\n",
       "      <td>12.60</td>\n",
       "      <td>21.05</td>\n",
       "      <td>32.5</td>\n",
       "    </tr>\n",
       "    <tr>\n",
       "      <th>tmin</th>\n",
       "      <td>912.0</td>\n",
       "      <td>8.285965</td>\n",
       "      <td>6.953973</td>\n",
       "      <td>-5.4</td>\n",
       "      <td>2.675</td>\n",
       "      <td>7.60</td>\n",
       "      <td>13.80</td>\n",
       "      <td>24.5</td>\n",
       "    </tr>\n",
       "    <tr>\n",
       "      <th>tmax</th>\n",
       "      <td>912.0</td>\n",
       "      <td>21.008004</td>\n",
       "      <td>9.076888</td>\n",
       "      <td>2.6</td>\n",
       "      <td>13.500</td>\n",
       "      <td>18.90</td>\n",
       "      <td>28.85</td>\n",
       "      <td>42.2</td>\n",
       "    </tr>\n",
       "    <tr>\n",
       "      <th>tmed_1</th>\n",
       "      <td>912.0</td>\n",
       "      <td>14.649123</td>\n",
       "      <td>7.730972</td>\n",
       "      <td>0.5</td>\n",
       "      <td>8.400</td>\n",
       "      <td>12.60</td>\n",
       "      <td>21.05</td>\n",
       "      <td>32.5</td>\n",
       "    </tr>\n",
       "    <tr>\n",
       "      <th>tmed_2</th>\n",
       "      <td>912.0</td>\n",
       "      <td>14.642215</td>\n",
       "      <td>7.727721</td>\n",
       "      <td>0.5</td>\n",
       "      <td>8.400</td>\n",
       "      <td>12.60</td>\n",
       "      <td>21.05</td>\n",
       "      <td>32.5</td>\n",
       "    </tr>\n",
       "    <tr>\n",
       "      <th>tmed_3</th>\n",
       "      <td>912.0</td>\n",
       "      <td>14.637829</td>\n",
       "      <td>7.722571</td>\n",
       "      <td>0.5</td>\n",
       "      <td>8.375</td>\n",
       "      <td>12.60</td>\n",
       "      <td>21.05</td>\n",
       "      <td>32.5</td>\n",
       "    </tr>\n",
       "    <tr>\n",
       "      <th>tmin_1</th>\n",
       "      <td>912.0</td>\n",
       "      <td>8.295504</td>\n",
       "      <td>6.952217</td>\n",
       "      <td>-5.4</td>\n",
       "      <td>2.675</td>\n",
       "      <td>7.60</td>\n",
       "      <td>13.80</td>\n",
       "      <td>24.5</td>\n",
       "    </tr>\n",
       "    <tr>\n",
       "      <th>tmin_2</th>\n",
       "      <td>912.0</td>\n",
       "      <td>8.293860</td>\n",
       "      <td>6.950907</td>\n",
       "      <td>-5.4</td>\n",
       "      <td>2.700</td>\n",
       "      <td>7.60</td>\n",
       "      <td>13.80</td>\n",
       "      <td>24.5</td>\n",
       "    </tr>\n",
       "    <tr>\n",
       "      <th>tmin_3</th>\n",
       "      <td>912.0</td>\n",
       "      <td>8.294079</td>\n",
       "      <td>6.949257</td>\n",
       "      <td>-5.4</td>\n",
       "      <td>2.700</td>\n",
       "      <td>7.60</td>\n",
       "      <td>13.80</td>\n",
       "      <td>24.5</td>\n",
       "    </tr>\n",
       "    <tr>\n",
       "      <th>tmax_1</th>\n",
       "      <td>912.0</td>\n",
       "      <td>21.004276</td>\n",
       "      <td>9.060720</td>\n",
       "      <td>2.6</td>\n",
       "      <td>13.500</td>\n",
       "      <td>18.95</td>\n",
       "      <td>28.85</td>\n",
       "      <td>42.2</td>\n",
       "    </tr>\n",
       "    <tr>\n",
       "      <th>tmax_2</th>\n",
       "      <td>912.0</td>\n",
       "      <td>20.991776</td>\n",
       "      <td>9.056666</td>\n",
       "      <td>2.6</td>\n",
       "      <td>13.500</td>\n",
       "      <td>18.95</td>\n",
       "      <td>28.85</td>\n",
       "      <td>42.2</td>\n",
       "    </tr>\n",
       "    <tr>\n",
       "      <th>tmax_3</th>\n",
       "      <td>912.0</td>\n",
       "      <td>20.983114</td>\n",
       "      <td>9.050151</td>\n",
       "      <td>2.6</td>\n",
       "      <td>13.500</td>\n",
       "      <td>18.95</td>\n",
       "      <td>28.85</td>\n",
       "      <td>42.2</td>\n",
       "    </tr>\n",
       "  </tbody>\n",
       "</table>\n",
       "</div>"
      ],
      "text/plain": [
       "        count       mean       std  min     25%    50%    75%   max\n",
       "tmed    912.0  14.646162  7.740936  0.5   8.375  12.60  21.05  32.5\n",
       "tmin    912.0   8.285965  6.953973 -5.4   2.675   7.60  13.80  24.5\n",
       "tmax    912.0  21.008004  9.076888  2.6  13.500  18.90  28.85  42.2\n",
       "tmed_1  912.0  14.649123  7.730972  0.5   8.400  12.60  21.05  32.5\n",
       "tmed_2  912.0  14.642215  7.727721  0.5   8.400  12.60  21.05  32.5\n",
       "tmed_3  912.0  14.637829  7.722571  0.5   8.375  12.60  21.05  32.5\n",
       "tmin_1  912.0   8.295504  6.952217 -5.4   2.675   7.60  13.80  24.5\n",
       "tmin_2  912.0   8.293860  6.950907 -5.4   2.700   7.60  13.80  24.5\n",
       "tmin_3  912.0   8.294079  6.949257 -5.4   2.700   7.60  13.80  24.5\n",
       "tmax_1  912.0  21.004276  9.060720  2.6  13.500  18.95  28.85  42.2\n",
       "tmax_2  912.0  20.991776  9.056666  2.6  13.500  18.95  28.85  42.2\n",
       "tmax_3  912.0  20.983114  9.050151  2.6  13.500  18.95  28.85  42.2"
      ]
     },
     "execution_count": 6,
     "metadata": {},
     "output_type": "execute_result"
    }
   ],
   "source": [
    "# execute the describe() function and transpose the output so that it doesn't overflow the width of the screen\n",
    "df.describe().T"
   ]
  },
  {
   "cell_type": "code",
   "execution_count": 7,
   "metadata": {},
   "outputs": [
    {
     "name": "stdout",
     "output_type": "stream",
     "text": [
      "<class 'pandas.core.frame.DataFrame'>\n",
      "Index: 912 entries, 2018-01-04 to 2020-12-31\n",
      "Data columns (total 12 columns):\n",
      " #   Column  Non-Null Count  Dtype  \n",
      "---  ------  --------------  -----  \n",
      " 0   tmed    912 non-null    float64\n",
      " 1   tmin    912 non-null    float64\n",
      " 2   tmax    912 non-null    float64\n",
      " 3   tmed_1  912 non-null    float64\n",
      " 4   tmed_2  912 non-null    float64\n",
      " 5   tmed_3  912 non-null    float64\n",
      " 6   tmin_1  912 non-null    float64\n",
      " 7   tmin_2  912 non-null    float64\n",
      " 8   tmin_3  912 non-null    float64\n",
      " 9   tmax_1  912 non-null    float64\n",
      " 10  tmax_2  912 non-null    float64\n",
      " 11  tmax_3  912 non-null    float64\n",
      "dtypes: float64(12)\n",
      "memory usage: 92.6+ KB\n"
     ]
    }
   ],
   "source": [
    "# execute the info() function\n",
    "df.info()"
   ]
  },
  {
   "cell_type": "markdown",
   "metadata": {},
   "source": [
    "#### Podemos observar que tenemos menos de 1000 filas de datos, todos son de caracter numerico y ademas no hay datos nulos o que falten. Esto se debe al preprocesado que hicimos"
   ]
  },
  {
   "cell_type": "markdown",
   "metadata": {},
   "source": [
    "#### Ahora "
   ]
  }
 ],
 "metadata": {
  "kernelspec": {
   "display_name": "Python 3",
   "language": "python",
   "name": "python3"
  },
  "language_info": {
   "codemirror_mode": {
    "name": "ipython",
    "version": 3
   },
   "file_extension": ".py",
   "mimetype": "text/x-python",
   "name": "python",
   "nbconvert_exporter": "python",
   "pygments_lexer": "ipython3",
   "version": "3.8.5"
  }
 },
 "nbformat": 4,
 "nbformat_minor": 4
}
