{
 "cells": [
  {
   "cell_type": "markdown",
   "metadata": {},
   "source": [
    "In the third article of the series, Using Machine Learning to Predict the Weather: Part 3, I describe how the processes and steps required to build a Neural Network using Google's TensorFlow to predict future mean daily temperatures. Using this method I can then compare the results to the Linear Regression model."
   ]
  },
  {
   "cell_type": "markdown",
   "metadata": {},
   "source": [
    "Topics I will be covering in this article include:\n",
    "\n",
    "- Understanding Artificial Neural Networks Theory\n",
    "- TensorFlow's High Level Estimator API\n",
    "- Building a DNNRegressor to Predict the Weather"
   ]
  },
  {
   "cell_type": "markdown",
   "metadata": {},
   "source": [
    "## Understanding Artificial Neural Networks Theory"
   ]
  },
  {
   "cell_type": "markdown",
   "metadata": {},
   "source": [
    "#### En el notebook anterior he utilizado la tecnica de regresion lineal, la cual es muy util, pero rpesenta el problema de que se supone que hay una relacion lineal entre las variables a estudiar.\n",
    "\n",
    "#### En este caso voy a utilizar redes neuronales, que se comportan bastante bien tanto cuando hay relaciones lineales como cuando no.\n",
    "\n",
    "#### Se trata de un aprendizaje supervisado, ya el modelo se va a entrenar con informacion que ya se sabe su salida.\n",
    "\n",
    "TODO --> poner mas informacion sobre como funciona una red neuronal"
   ]
  },
  {
   "cell_type": "markdown",
   "metadata": {},
   "source": [
    "## TensorFlow's High Level Estimator API"
   ]
  },
  {
   "cell_type": "code",
   "execution_count": null,
   "metadata": {},
   "outputs": [],
   "source": []
  }
 ],
 "metadata": {
  "kernelspec": {
   "display_name": "Python 3",
   "language": "python",
   "name": "python3"
  },
  "language_info": {
   "codemirror_mode": {
    "name": "ipython",
    "version": 3
   },
   "file_extension": ".py",
   "mimetype": "text/x-python",
   "name": "python",
   "nbconvert_exporter": "python",
   "pygments_lexer": "ipython3",
   "version": "3.8.5"
  }
 },
 "nbformat": 4,
 "nbformat_minor": 4
}
